{
 "cells": [
  {
   "cell_type": "code",
   "execution_count": 1,
   "options": {
    "collapsed": true
   },
   "outputs": [],
   "source": [
    "import matplotlib.pyplot as plt\n",
    "import numpy as np\n",
    "from utils.coords import *"
   ]
  },
  {
   "cell_type": "code",
   "execution_count": 2,
   "options": {},
   "outputs": [
    {
     "data": {
      "image/png": "[encoded data removed]",
      "text/plain": [
       "<matplotlib.figure.Figure at 0x7ff2d4770890>"
      ]
     },
     "options": {},
     "output_type": "display_data"
    },
    {
     "name": "stdout",
     "output_type": "stream",
     "text": [
      "[[ 0.          0.        ]\n",
      " [ 0.          0.06666667]\n",
      " [ 0.          0.13333333]\n",
      " [ 0.          0.2       ]\n",
      " [ 0.          0.26666667]\n",
      " [ 0.          0.33333333]\n",
      " [ 0.          0.4       ]\n",
      " [ 0.          0.46666667]\n",
      " [ 0.          0.53333333]\n",
      " [ 0.          0.6       ]\n",
      " [ 0.          0.66666667]\n",
      " [ 0.          0.73333333]\n",
      " [ 0.          0.8       ]\n",
      " [ 0.          0.86666667]\n",
      " [ 0.          0.93333333]\n",
      " [ 0.          1.        ]\n",
      " [ 0.33333333  0.        ]\n",
      " [ 0.33333333  0.06666667]\n",
      " [ 0.33333333  0.13333333]\n",
      " [ 0.33333333  0.2       ]\n",
      " [ 0.33333333  0.26666667]\n",
      " [ 0.33333333  0.33333333]\n",
      " [ 0.33333333  0.4       ]\n",
      " [ 0.33333333  0.46666667]\n",
      " [ 0.33333333  0.53333333]\n",
      " [ 0.33333333  0.6       ]\n",
      " [ 0.33333333  0.66666667]\n",
      " [ 0.33333333  0.73333333]\n",
      " [ 0.33333333  0.8       ]\n",
      " [ 0.33333333  0.86666667]\n",
      " [ 0.33333333  0.93333333]\n",
      " [ 0.33333333  1.        ]\n",
      " [ 0.66666667  0.        ]\n",
      " [ 0.66666667  0.06666667]\n",
      " [ 0.66666667  0.13333333]\n",
      " [ 0.66666667  0.2       ]\n",
      " [ 0.66666667  0.26666667]\n",
      " [ 0.66666667  0.33333333]\n",
      " [ 0.66666667  0.4       ]\n",
      " [ 0.66666667  0.46666667]\n",
      " [ 0.66666667  0.53333333]\n",
      " [ 0.66666667  0.6       ]\n",
      " [ 0.66666667  0.66666667]\n",
      " [ 0.66666667  0.73333333]\n",
      " [ 0.66666667  0.8       ]\n",
      " [ 0.66666667  0.86666667]\n",
      " [ 0.66666667  0.93333333]\n",
      " [ 0.66666667  1.        ]\n",
      " [ 1.          0.        ]\n",
      " [ 1.          0.06666667]\n",
      " [ 1.          0.13333333]\n",
      " [ 1.          0.2       ]\n",
      " [ 1.          0.26666667]\n",
      " [ 1.          0.33333333]\n",
      " [ 1.          0.4       ]\n",
      " [ 1.          0.46666667]\n",
      " [ 1.          0.53333333]\n",
      " [ 1.          0.6       ]\n",
      " [ 1.          0.66666667]\n",
      " [ 1.          0.73333333]\n",
      " [ 1.          0.8       ]\n",
      " [ 1.          0.86666667]\n",
      " [ 1.          0.93333333]\n",
      " [ 1.          1.        ]]\n",
      "(64, 2)\n"
     ]
    }
   ],
   "source": [
    "A = get_coord_tmp(2,8,'yx')\n",
    "plt.scatter(A[:,0],A[:,1],10)\n",
    "plt.show()\n",
    "\n",
    "print A\n",
    "print A.shape"
   ]
  },
  {
   "cell_type": "code",
   "execution_count": 3,
   "options": {},
   "outputs": [
    {
     "data": {
      "image/png": "[encoded data removed]",
      "text/plain": [
       "<matplotlib.figure.Figure at 0x7ff2d4770190>"
      ]
     },
     "options": {},
     "output_type": "display_data"
    },
    {
     "name": "stdout",
     "output_type": "stream",
     "text": [
      "[[ 0.          0.        ]\n",
      " [ 0.33333333  0.        ]\n",
      " [ 0.66666667  0.        ]\n",
      " [ 1.          0.        ]\n",
      " [ 0.          0.06666667]\n",
      " [ 0.33333333  0.06666667]\n",
      " [ 0.66666667  0.06666667]\n",
      " [ 1.          0.06666667]\n",
      " [ 0.          0.13333333]\n",
      " [ 0.33333333  0.13333333]\n",
      " [ 0.66666667  0.13333333]\n",
      " [ 1.          0.13333333]\n",
      " [ 0.          0.2       ]\n",
      " [ 0.33333333  0.2       ]\n",
      " [ 0.66666667  0.2       ]\n",
      " [ 1.          0.2       ]\n",
      " [ 0.          0.26666667]\n",
      " [ 0.33333333  0.26666667]\n",
      " [ 0.66666667  0.26666667]\n",
      " [ 1.          0.26666667]\n",
      " [ 0.          0.33333333]\n",
      " [ 0.33333333  0.33333333]\n",
      " [ 0.66666667  0.33333333]\n",
      " [ 1.          0.33333333]\n",
      " [ 0.          0.4       ]\n",
      " [ 0.33333333  0.4       ]\n",
      " [ 0.66666667  0.4       ]\n",
      " [ 1.          0.4       ]\n",
      " [ 0.          0.46666667]\n",
      " [ 0.33333333  0.46666667]\n",
      " [ 0.66666667  0.46666667]\n",
      " [ 1.          0.46666667]\n",
      " [ 0.          0.53333333]\n",
      " [ 0.33333333  0.53333333]\n",
      " [ 0.66666667  0.53333333]\n",
      " [ 1.          0.53333333]\n",
      " [ 0.          0.6       ]\n",
      " [ 0.33333333  0.6       ]\n",
      " [ 0.66666667  0.6       ]\n",
      " [ 1.          0.6       ]\n",
      " [ 0.          0.66666667]\n",
      " [ 0.33333333  0.66666667]\n",
      " [ 0.66666667  0.66666667]\n",
      " [ 1.          0.66666667]\n",
      " [ 0.          0.73333333]\n",
      " [ 0.33333333  0.73333333]\n",
      " [ 0.66666667  0.73333333]\n",
      " [ 1.          0.73333333]\n",
      " [ 0.          0.8       ]\n",
      " [ 0.33333333  0.8       ]\n",
      " [ 0.66666667  0.8       ]\n",
      " [ 1.          0.8       ]\n",
      " [ 0.          0.86666667]\n",
      " [ 0.33333333  0.86666667]\n",
      " [ 0.66666667  0.86666667]\n",
      " [ 1.          0.86666667]\n",
      " [ 0.          0.93333333]\n",
      " [ 0.33333333  0.93333333]\n",
      " [ 0.66666667  0.93333333]\n",
      " [ 1.          0.93333333]\n",
      " [ 0.          1.        ]\n",
      " [ 0.33333333  1.        ]\n",
      " [ 0.66666667  1.        ]\n",
      " [ 1.          1.        ]]\n",
      "(64, 2)\n"
     ]
    }
   ],
   "source": [
    "A = get_coord_tmp(2,8,'xy')\n",
    "plt.scatter(A[:,0],A[:,1],10)\n",
    "plt.show()\n",
    "\n",
    "print A\n",
    "print A.shape"
   ]
  },
  {
   "cell_type": "code",
   "execution_count": 4,
   "options": {},
   "outputs": [
    {
     "name": "stdout",
     "output_type": "stream",
     "text": [
      "[[0 0 0 0 0]\n",
      " [1 1 1 1 1]\n",
      " [2 2 2 2 2]\n",
      " [3 3 3 3 3]]\n",
      "[[0 1 2 3 4]\n",
      " [0 1 2 3 4]\n",
      " [0 1 2 3 4]\n",
      " [0 1 2 3 4]]\n",
      "[[ 0.  0.]\n",
      " [ 0.  1.]\n",
      " [ 0.  2.]\n",
      " [ 0.  3.]\n",
      " [ 0.  4.]\n",
      " [ 1.  0.]\n",
      " [ 1.  1.]\n",
      " [ 1.  2.]\n",
      " [ 1.  3.]\n",
      " [ 1.  4.]\n",
      " [ 2.  0.]\n",
      " [ 2.  1.]\n",
      " [ 2.  2.]\n",
      " [ 2.  3.]\n",
      " [ 2.  4.]\n",
      " [ 3.  0.]\n",
      " [ 3.  1.]\n",
      " [ 3.  2.]\n",
      " [ 3.  3.]\n",
      " [ 3.  4.]]\n"
     ]
    }
   ],
   "source": [
    "q1 = np.einsum('i,j->ij', [0,1,2,3],[1,1,1,1,1])\n",
    "q2 = np.einsum('i,j->ij', [1,1,1,1], [0,1,2,3,4])\n",
    "print q1\n",
    "print q2\n",
    "q = np.zeros((4,5,2))\n",
    "q[:,:,0] = q1\n",
    "q[:,:,1] = q2\n",
    "print q.reshape((4*5,2))"
   ]
  },
  {
   "cell_type": "code",
   "execution_count": 5,
   "options": {},
   "outputs": [
    {
     "name": "stdout",
     "output_type": "stream",
     "text": [
      "((5, 4), (5, 4))\n",
      "[[0 0 0 0 0]\n",
      " [1 1 1 1 1]\n",
      " [2 2 2 2 2]\n",
      " [3 3 3 3 3]]\n",
      "[[0 1 2 3 4]\n",
      " [0 1 2 3 4]\n",
      " [0 1 2 3 4]\n",
      " [0 1 2 3 4]]\n"
     ]
    }
   ],
   "source": [
    "(xl_, yl_) = np.meshgrid([0,1,2,3],[0,1,2,3,4])\n",
    "print(xl_.shape, yl_.shape)\n",
    "print xl_.T\n",
    "print yl_.T\n"
   ]
  },
  {
   "cell_type": "code",
   "execution_count": 6,
   "options": {},
   "outputs": [
    {
     "name": "stdout",
     "output_type": "stream",
     "text": [
      "[ 0.02113249  0.07886751  0.12113249  0.17886751  0.22113249  0.27886751\n",
      "  0.32113249  0.37886751  0.42113249  0.47886751  0.52113249  0.57886751\n",
      "  0.62113249  0.67886751  0.72113249  0.77886751  0.82113249  0.87886751\n",
      "  0.92113249  0.97886751]\n",
      "[ 0.05283122  0.19716878  0.30283122  0.44716878  0.55283122  0.69716878\n",
      "  0.80283122  0.94716878]\n"
     ]
    }
   ],
   "source": [
    "print get_coord_eval(11,5,2)[0]\n",
    "print get_coord_eval(11,5,2)[1]\n"
   ]
  },
  {
   "cell_type": "code",
   "execution_count": 7,
   "options": {},
   "outputs": [
    {
     "name": "stdout",
     "output_type": "stream",
     "text": [
      "[[1 1 1]\n",
      " [2 2 2]\n",
      " [3 3 3]]\n",
      "[[1 2 3]\n",
      " [1 2 3]\n",
      " [1 2 3]]\n"
     ]
    }
   ],
   "source": [
    "print np.outer([1,2,3],[1,1,1])\n",
    "print np.outer([1,1,1],[1,2,3])"
   ]
  },
  {
   "cell_type": "code",
   "execution_count": null,
   "options": {
    "collapsed": true
   },
   "outputs": [],
   "source": []
  },
  {
   "cell_type": "code",
   "execution_count": 8,
   "options": {},
   "outputs": [
    {
     "name": "stdout",
     "output_type": "stream",
     "text": [
      "[[[[ 0  1]\n",
      "   [ 2  3]]\n",
      "\n",
      "  [[ 4  5]\n",
      "   [ 6  7]]]\n",
      "\n",
      "\n",
      " [[[ 8  9]\n",
      "   [10 11]]\n",
      "\n",
      "  [[12 13]\n",
      "   [14 15]]]\n",
      "\n",
      "\n",
      " [[[16 17]\n",
      "   [18 19]]\n",
      "\n",
      "  [[20 21]\n",
      "   [22 23]]]]\n",
      "[[ 0  1  2]\n",
      " [ 3  4  5]\n",
      " [ 6  7  8]\n",
      " [ 9 10 11]]\n"
     ]
    }
   ],
   "source": [
    "nx = 4\n",
    "ny = 3\n",
    "quad_order = 2\n",
    "nPoints = (nx - 1) * quad_order * (ny - 1) * quad_order\n",
    "nNodes = nx*ny\n",
    "x_arange = np.arange(nPoints).reshape((nx - 1, quad_order, ny - 1, quad_order))\n",
    "print x_arange\n",
    "y_arange = np.arange(nNodes).reshape((nx, ny))\n",
    "print y_arange\n"
   ]
  },
  {
   "cell_type": "code",
   "execution_count": 13,
   "options": {},
   "outputs": [
    {
     "ename": "TypeError",
     "evalue": "get_coord_eval() got an unexpected keyword argument 'node_order'",
     "output_type": "error",
     "traceback": [
      "\u001b[0;31m---------------------------------------------------------------------------\u001b[0m",
      "\u001b[0;31mTypeError\u001b[0m                                 Traceback (most recent call last)",
      "\u001b[0;32m<ipython-input-13-dba09fc5e24e>\u001b[0m in \u001b[0;36m<module>\u001b[0;34m()\u001b[0m\n\u001b[1;32m      3\u001b[0m \u001b[0mnum_nodes_y\u001b[0m \u001b[0;34m=\u001b[0m \u001b[0;36m5\u001b[0m\u001b[0;34m\u001b[0m\u001b[0m\n\u001b[1;32m      4\u001b[0m \u001b[0mquad_order\u001b[0m \u001b[0;34m=\u001b[0m \u001b[0;36m2\u001b[0m\u001b[0;34m\u001b[0m\u001b[0m\n\u001b[0;32m----> 5\u001b[0;31m \u001b[0mcoord_eval_x\u001b[0m\u001b[0;34m,\u001b[0m \u001b[0mcoord_eval_y\u001b[0m \u001b[0;34m=\u001b[0m \u001b[0mget_coord_eval\u001b[0m\u001b[0;34m(\u001b[0m\u001b[0mnum_nodes_x\u001b[0m\u001b[0;34m,\u001b[0m \u001b[0mnum_nodes_y\u001b[0m\u001b[0;34m,\u001b[0m \u001b[0mquad_order\u001b[0m\u001b[0;34m,\u001b[0m\u001b[0mnode_order\u001b[0m\u001b[0;34m=\u001b[0m\u001b[0;34m'yx'\u001b[0m\u001b[0;34m)\u001b[0m\u001b[0;34m\u001b[0m\u001b[0m\n\u001b[0m\u001b[1;32m      6\u001b[0m \u001b[0;31m# print (coord_eval_x.shape, coord_eval_y.shape)\u001b[0m\u001b[0;34m\u001b[0m\u001b[0;34m\u001b[0m\u001b[0m\n\u001b[1;32m      7\u001b[0m \u001b[0;32mprint\u001b[0m \u001b[0mget_bspline_mtx\u001b[0m\u001b[0;34m(\u001b[0m\u001b[0mcoord_eval_x\u001b[0m\u001b[0;34m,\u001b[0m\u001b[0mcoord_eval_y\u001b[0m\u001b[0;34m,\u001b[0m\u001b[0;36m10\u001b[0m\u001b[0;34m,\u001b[0m\u001b[0;36m20\u001b[0m\u001b[0;34m)\u001b[0m\u001b[0;34m\u001b[0m\u001b[0m\n",
      "\u001b[0;31mTypeError\u001b[0m: get_coord_eval() got an unexpected keyword argument 'node_order'"
     ]
    }
   ],
   "source": [
    "from utils.bspline import get_bspline_mtx\n",
    "num_nodes_x = 10\n",
    "num_nodes_y = 5\n",
    "quad_order = 2\n",
    "coord_eval_x, coord_eval_y = get_coord_eval(num_nodes_x, num_nodes_y, quad_order)\n",
    "# print (coord_eval_x.shape, coord_eval_y.shape)\n",
    "print get_bspline_mtx(coord_eval_x,coord_eval_y,10,20,node_order='yx')"
   ]
  },
  {
   "cell_type": "code",
   "execution_count": null,
   "options": {
    "collapsed": true
   },
   "outputs": [],
   "source": []
  }
 ],
 "options": {
  "kernelspec": {
   "display_name": "Python 2",
   "language": "python",
   "name": "python2"
  },
  "language_info": {
   "codemirror_mode": {
    "name": "ipython",
    "version": 2
   },
   "file_extension": ".py",
   "mimetype": "text/x-python",
   "name": "python",
   "nbconvert_exporter": "python",
   "pygments_lexer": "ipython2",
   "version": "2.7.13"
  }
 },
 "nbformat": 4,
 "nbformat_minor": 2
}
